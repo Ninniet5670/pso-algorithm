{
  "cells": [
    {
      "cell_type": "markdown",
      "metadata": {},
      "source": [
        "## Importação dos pacotes"
      ]
    },
    {
      "cell_type": "code",
      "execution_count": 23,
      "metadata": {},
      "outputs": [],
      "source": [
        "import numpy as np\n",
        "import matplotlib.pyplot as plt\n",
        "import matplotlib.animation as animation"
      ]
    },
    {
      "cell_type": "markdown",
      "metadata": {},
      "source": [
        "## Declaração da função de Rastrigin"
      ]
    },
    {
      "cell_type": "code",
      "execution_count": 22,
      "metadata": {},
      "outputs": [],
      "source": [
        "def rastrigin(x):\n",
        "    return 10*len(x) + sum([(xi**2 - 10 * np.cos(2 * np.pi * xi)) for xi in x])"
      ]
    },
    {
      "cell_type": "markdown",
      "metadata": {},
      "source": [
        "![rastr.png](./assets/rastr.png)\n",
        "\n",
        "![rastr2.png](./assets/rastr2.png)\n",
        "\n",
        "A função Rastrigin possui vários mínimos locais. É altamente multimodal, mas as localizações dos mínimos são distribuídas de forma regular. Ela é mostrada no gráfico acima em sua forma bidimensional.\n",
        "\n",
        "Disponível na íntegra em: https://www.sfu.ca/~ssurjano/rastr.html\n",
        "\n",
        "- Multimodalidade: Possui múltiplos mínimos locais, desafiando algoritmos a encontrar o mínimo global.\n",
        "\n",
        "- Complexidade do Espaço de Busca: Tem uma superfície ondulada e complexa, simulando problemas de otimização reais.\n",
        "\n",
        "- Avaliação da Robustez dos Algoritmos: Testa a capacidade dos algoritmos de evitar mínimos locais e explorar o espaço de busca.\n",
        "\n",
        "- Relevância para Problemas Reais: Representa melhor a complexidade dos problemas de otimização do mundo real.\n",
        "\n",
        "- Testes de Otimização Global: Adequada para avaliar algoritmos de otimização global, como PSO, que precisam lidar com múltiplos mínimos locais.\n"
      ]
    },
    {
      "cell_type": "markdown",
      "metadata": {},
      "source": [
        "## Declaração da classe das Partículas"
      ]
    },
    {
      "cell_type": "code",
      "execution_count": 24,
      "metadata": {},
      "outputs": [],
      "source": [
        "class Particle:\n",
        "    def __init__(self, bounds):\n",
        "        self.position = np.random.uniform(bounds[:, 0], bounds[:, 1])\n",
        "        self.velocity = np.random.uniform(-1, 1, size=(bounds.shape[0],))\n",
        "        self.best_position = np.copy(self.position)\n",
        "        self.best_score = rastrigin(self.position)"
      ]
    },
    {
      "cell_type": "markdown",
      "metadata": {},
      "source": [
        "## Declaração da classe do PSO em si"
      ]
    },
    {
      "cell_type": "code",
      "execution_count": 26,
      "metadata": {
        "colab": {
          "base_uri": "https://localhost:8080/",
          "height": 469
        },
        "id": "4YRxrMfCUMTA",
        "outputId": "64931279-31fe-4ec4-aee8-4bf186b15d71"
      },
      "outputs": [
        {
          "name": "stdout",
          "output_type": "stream",
          "text": [
            "Melhor posição: [ 1.56193602e-08 -9.94958622e-01 -1.44159289e-08], Melhor score: 0.9949590570934319\n"
          ]
        }
      ],
      "source": [
        "class PSO:\n",
        "    def __init__(self, n_particles, bounds, iterations, c1=2.05, c2=2.05):  # soma de c1 e c2 até 4.1\n",
        "        self.n_particles = n_particles  # número de partículas na população.\n",
        "        self.bounds = bounds  # limites do espaço de busca\n",
        "        self.iterations = iterations  # número de iterações\n",
        "        self.c1 = c1\n",
        "        self.c2 = c2  # coeficientes de aceleração que controlam o comportamento cognitivo e social das partículas.\n",
        "        self.particles = [Particle(bounds) for _ in range(n_particles)]  # lista das partículas\n",
        "        self.gbest_score = np.inf  # melhor valor da função objetivo encontrado globalmente.\n",
        "        self.gbest_position = np.zeros(bounds.shape[0])  # melhor posição encontrada globalmente.\n",
        "        self.w = np.linspace(0.9, 0.1, self.iterations)  # fator de inércia que diminui linearmente ao longo das iterações.\n",
        "        self.best_scores = []  # Lista que armazena o melhor score de cada iteração\n",
        "        self.positions_over_time = []  # Lista que armazena as posições das partículas ao longo do tempo para animação\n",
        "\n",
        "    def optimize(self):\n",
        "        for i in range(self.iterations):\n",
        "            positions = []\n",
        "            for particle in self.particles:\n",
        "                fitness = rastrigin(particle.position)  # calcula o valor da função Rastrigin na posição atual da partícula\n",
        "\n",
        "                if fitness < particle.best_score:  # atualiza a melhor posição da partícula se o fitness atual for melhor\n",
        "                    particle.best_score = fitness\n",
        "                    particle.best_position = np.copy(particle.position)\n",
        "\n",
        "                if fitness < self.gbest_score:  # atualiza a melhor posição global se o fitness atual for o melhor encontrado até agora\n",
        "                    self.gbest_score = fitness\n",
        "                    self.gbest_position = np.copy(particle.position)\n",
        "\n",
        "                r1 = np.random.random()  # números aleatórios para a parte estocástica das componentes cognitiva e social\n",
        "                r2 = np.random.random() \n",
        "\n",
        "                cognitive = self.c1 * r1 * (particle.best_position - particle.position)  # componente cognitiva que atrai a partícula para sua melhor posição pessoal\n",
        "                social = self.c2 * r2 * (self.gbest_position - particle.position)  # componente social que atrai a partícula para a melhor posição global\n",
        "\n",
        "                particle.velocity = self.w[i] * particle.velocity + cognitive + social  # atualização da velocidade da partícula com base no cognitivo e social\n",
        "                particle.position += particle.velocity\n",
        "\n",
        "                particle.position = np.clip(particle.position, self.bounds[:, 0], self.bounds[:, 1])  # garante que a nova posição esteja dentro dos limites permitidos\n",
        "                positions.append(particle.position)\n",
        "\n",
        "            self.positions_over_time.append(positions)\n",
        "            self.best_scores.append(self.gbest_score)\n",
        "\n",
        "        return self.gbest_position, self.gbest_score\n",
        "\n",
        "    def animate(self):\n",
        "        fig, ax = plt.subplots()\n",
        "\n",
        "        # escolhendo ateatoriamente 2 dimensões para plotar\n",
        "        dim1, dim2 = np.random.choice(range(self.bounds.shape[0]), size=2, replace=False)\n",
        "\n",
        "        def update(num):\n",
        "            ax.clear()\n",
        "            ax.set_title(f'Iteração {num}')\n",
        "            ax.set_xlim([self.bounds[dim1, 0], self.bounds[dim1, 1]])\n",
        "            ax.set_ylim([self.bounds[dim2, 0], self.bounds[dim2, 1]])\n",
        "            positions = self.positions_over_time[num]\n",
        "            for position in positions:\n",
        "                ax.scatter(position[dim1], position[dim2])\n",
        "\n",
        "        ani = animation.FuncAnimation(fig, update, frames=self.iterations, repeat=False)\n",
        "        writervideo = animation.FFMpegWriter(fps=2)\n",
        "        ani.save('pso.mp4', writer=writervideo)\n",
        "        plt.show()\n",
        "\n",
        "def main():\n",
        "    bounds = np.array([[-5.12, 5.12], [-5.12, 5.12], [-5.12, 5.12]])\n",
        "    pso = PSO(n_particles=30, bounds=bounds, iterations=100)\n",
        "    best_position, best_score = pso.optimize()\n",
        "    print(f'Melhor posição: {best_position}, Melhor score: {best_score}')\n",
        "    # pso.animate()  # descomentar aqui caso rodar no Colab\n",
        "\n",
        "main()"
      ]
    },
    {
      "cell_type": "markdown",
      "metadata": {},
      "source": [
        "## Feito pelo Chat-GPT\n",
        "\"Faça um algoritmo de pso em python\""
      ]
    },
    {
      "cell_type": "code",
      "execution_count": 3,
      "metadata": {
        "colab": {
          "base_uri": "https://localhost:8080/"
        },
        "id": "PtDy3bawpmI6",
        "outputId": "da29a6a0-2a31-4059-a097-89e5c569058f"
      },
      "outputs": [
        {
          "name": "stdout",
          "output_type": "stream",
          "text": [
            "Iteração 1/100 - Melhor Score: 0.18002502978213286\n",
            "Iteração 2/100 - Melhor Score: 0.12743803819547414\n",
            "Iteração 3/100 - Melhor Score: 0.12743803819547414\n",
            "Iteração 4/100 - Melhor Score: 0.04278453852730482\n",
            "Iteração 5/100 - Melhor Score: 0.006854813444553724\n",
            "Iteração 6/100 - Melhor Score: 0.006854813444553724\n",
            "Iteração 7/100 - Melhor Score: 0.006269109898233389\n",
            "Iteração 8/100 - Melhor Score: 0.006269109898233389\n",
            "Iteração 9/100 - Melhor Score: 0.006269109898233389\n",
            "Iteração 10/100 - Melhor Score: 0.006269109898233389\n",
            "Iteração 11/100 - Melhor Score: 0.006001532980520965\n",
            "Iteração 12/100 - Melhor Score: 0.0005496629994841132\n",
            "Iteração 13/100 - Melhor Score: 8.309819158696208e-05\n",
            "Iteração 14/100 - Melhor Score: 8.309819158696208e-05\n",
            "Iteração 15/100 - Melhor Score: 8.309819158696208e-05\n",
            "Iteração 16/100 - Melhor Score: 8.309819158696208e-05\n",
            "Iteração 17/100 - Melhor Score: 8.309819158696208e-05\n",
            "Iteração 18/100 - Melhor Score: 8.309819158696208e-05\n",
            "Iteração 19/100 - Melhor Score: 8.309819158696208e-05\n",
            "Iteração 20/100 - Melhor Score: 8.309819158696208e-05\n",
            "Iteração 21/100 - Melhor Score: 8.309819158696208e-05\n",
            "Iteração 22/100 - Melhor Score: 8.309819158696208e-05\n",
            "Iteração 23/100 - Melhor Score: 8.309819158696208e-05\n",
            "Iteração 24/100 - Melhor Score: 3.3653511743901067e-06\n",
            "Iteração 25/100 - Melhor Score: 3.3653511743901067e-06\n",
            "Iteração 26/100 - Melhor Score: 3.3653511743901067e-06\n",
            "Iteração 27/100 - Melhor Score: 3.3653511743901067e-06\n",
            "Iteração 28/100 - Melhor Score: 3.3653511743901067e-06\n",
            "Iteração 29/100 - Melhor Score: 3.3653511743901067e-06\n",
            "Iteração 30/100 - Melhor Score: 3.3653511743901067e-06\n",
            "Iteração 31/100 - Melhor Score: 1.3794179610212844e-06\n",
            "Iteração 32/100 - Melhor Score: 1.3794179610212844e-06\n",
            "Iteração 33/100 - Melhor Score: 1.3794179610212844e-06\n",
            "Iteração 34/100 - Melhor Score: 1.3794179610212844e-06\n",
            "Iteração 35/100 - Melhor Score: 1.3794179610212844e-06\n",
            "Iteração 36/100 - Melhor Score: 1.3794179610212844e-06\n",
            "Iteração 37/100 - Melhor Score: 6.656246989400258e-07\n",
            "Iteração 38/100 - Melhor Score: 6.656246989400258e-07\n",
            "Iteração 39/100 - Melhor Score: 6.33390729102423e-07\n",
            "Iteração 40/100 - Melhor Score: 6.33390729102423e-07\n",
            "Iteração 41/100 - Melhor Score: 6.33390729102423e-07\n",
            "Iteração 42/100 - Melhor Score: 6.320427724234478e-07\n",
            "Iteração 43/100 - Melhor Score: 1.0917764944658294e-07\n",
            "Iteração 44/100 - Melhor Score: 1.0917764944658294e-07\n",
            "Iteração 45/100 - Melhor Score: 1.0917764944658294e-07\n",
            "Iteração 46/100 - Melhor Score: 4.84779484987814e-08\n",
            "Iteração 47/100 - Melhor Score: 2.7696531394197483e-08\n",
            "Iteração 48/100 - Melhor Score: 2.5605329963562978e-08\n",
            "Iteração 49/100 - Melhor Score: 2.5605329963562978e-08\n",
            "Iteração 50/100 - Melhor Score: 2.024381449603843e-08\n",
            "Iteração 51/100 - Melhor Score: 2.223751707693567e-09\n",
            "Iteração 52/100 - Melhor Score: 1.48731709873265e-10\n",
            "Iteração 53/100 - Melhor Score: 1.48731709873265e-10\n",
            "Iteração 54/100 - Melhor Score: 1.48731709873265e-10\n",
            "Iteração 55/100 - Melhor Score: 1.48731709873265e-10\n",
            "Iteração 56/100 - Melhor Score: 1.48731709873265e-10\n",
            "Iteração 57/100 - Melhor Score: 1.48731709873265e-10\n",
            "Iteração 58/100 - Melhor Score: 1.48731709873265e-10\n",
            "Iteração 59/100 - Melhor Score: 5.8192255788994367e-11\n",
            "Iteração 60/100 - Melhor Score: 2.5606700376987032e-11\n",
            "Iteração 61/100 - Melhor Score: 2.5606700376987032e-11\n",
            "Iteração 62/100 - Melhor Score: 2.2921255844723343e-11\n",
            "Iteração 63/100 - Melhor Score: 2.0020344464189985e-11\n",
            "Iteração 64/100 - Melhor Score: 2.0020344464189985e-11\n",
            "Iteração 65/100 - Melhor Score: 2.0020344464189985e-11\n",
            "Iteração 66/100 - Melhor Score: 2.0020344464189985e-11\n",
            "Iteração 67/100 - Melhor Score: 1.7964268199901556e-11\n",
            "Iteração 68/100 - Melhor Score: 1.6680336490373102e-11\n",
            "Iteração 69/100 - Melhor Score: 6.017675221796934e-12\n",
            "Iteração 70/100 - Melhor Score: 6.017675221796934e-12\n",
            "Iteração 71/100 - Melhor Score: 6.017675221796934e-12\n",
            "Iteração 72/100 - Melhor Score: 6.017675221796934e-12\n",
            "Iteração 73/100 - Melhor Score: 6.017675221796934e-12\n",
            "Iteração 74/100 - Melhor Score: 3.7556739388713113e-13\n",
            "Iteração 75/100 - Melhor Score: 3.7556739388713113e-13\n",
            "Iteração 76/100 - Melhor Score: 3.223073049009003e-13\n",
            "Iteração 77/100 - Melhor Score: 3.223073049009003e-13\n",
            "Iteração 78/100 - Melhor Score: 3.223073049009003e-13\n",
            "Iteração 79/100 - Melhor Score: 3.223073049009003e-13\n",
            "Iteração 80/100 - Melhor Score: 3.223073049009003e-13\n",
            "Iteração 81/100 - Melhor Score: 3.223073049009003e-13\n",
            "Iteração 82/100 - Melhor Score: 2.44203826242224e-13\n",
            "Iteração 83/100 - Melhor Score: 2.44203826242224e-13\n",
            "Iteração 84/100 - Melhor Score: 1.538540102776202e-13\n",
            "Iteração 85/100 - Melhor Score: 1.538540102776202e-13\n",
            "Iteração 86/100 - Melhor Score: 1.538540102776202e-13\n",
            "Iteração 87/100 - Melhor Score: 1.271961345631398e-14\n",
            "Iteração 88/100 - Melhor Score: 1.271961345631398e-14\n",
            "Iteração 89/100 - Melhor Score: 1.271961345631398e-14\n",
            "Iteração 90/100 - Melhor Score: 1.271961345631398e-14\n",
            "Iteração 91/100 - Melhor Score: 1.271961345631398e-14\n",
            "Iteração 92/100 - Melhor Score: 1.271961345631398e-14\n",
            "Iteração 93/100 - Melhor Score: 1.271961345631398e-14\n",
            "Iteração 94/100 - Melhor Score: 1.271961345631398e-14\n",
            "Iteração 95/100 - Melhor Score: 1.271961345631398e-14\n",
            "Iteração 96/100 - Melhor Score: 1.271961345631398e-14\n",
            "Iteração 97/100 - Melhor Score: 1.271961345631398e-14\n",
            "Iteração 98/100 - Melhor Score: 1.271961345631398e-14\n",
            "Iteração 99/100 - Melhor Score: 7.942832825509272e-15\n",
            "Iteração 100/100 - Melhor Score: 5.1273307608458035e-15\n",
            "Melhor posição: [ 1.05369744e-08 -7.08258634e-08]\n",
            "Melhor score: 5.1273307608458035e-15\n"
          ]
        }
      ],
      "source": [
        "import numpy as np\n",
        "\n",
        "# Função objetivo (esférica)\n",
        "def objective_function(x):\n",
        "    return np.sum(x ** 2)\n",
        "\n",
        "# Algoritmo PSO\n",
        "def pso(num_particles, num_dimensions, num_iterations, bounds, c1=2.0, c2=2.0, w=0.5):\n",
        "    # Inicialização\n",
        "    positions = np.random.uniform(bounds[0], bounds[1], (num_particles, num_dimensions))\n",
        "    velocities = np.random.uniform(-1, 1, (num_particles, num_dimensions))\n",
        "    pbest_positions = np.copy(positions)\n",
        "    pbest_scores = np.apply_along_axis(objective_function, 1, pbest_positions)\n",
        "    gbest_position = pbest_positions[np.argmin(pbest_scores)]\n",
        "    gbest_score = np.min(pbest_scores)\n",
        "\n",
        "    # Iterações\n",
        "    for iteration in range(num_iterations):\n",
        "        for i in range(num_particles):\n",
        "            # Atualizar velocidade\n",
        "            r1, r2 = np.random.rand(2)\n",
        "            velocities[i] = (w * velocities[i] +\n",
        "                             c1 * r1 * (pbest_positions[i] - positions[i]) +\n",
        "                             c2 * r2 * (gbest_position - positions[i]))\n",
        "\n",
        "            # Atualizar posição\n",
        "            positions[i] = positions[i] + velocities[i]\n",
        "\n",
        "            # Confinar posições dentro dos limites\n",
        "            positions[i] = np.clip(positions[i], bounds[0], bounds[1])\n",
        "\n",
        "            # Avaliar nova posição\n",
        "            score = objective_function(positions[i])\n",
        "\n",
        "            # Atualizar pbest\n",
        "            if score < pbest_scores[i]:\n",
        "                pbest_positions[i] = positions[i]\n",
        "                pbest_scores[i] = score\n",
        "\n",
        "            # Atualizar gbest\n",
        "            if score < gbest_score:\n",
        "                gbest_position = positions[i]\n",
        "                gbest_score = score\n",
        "\n",
        "        print(f\"Iteração {iteration + 1}/{num_iterations} - Melhor Score: {gbest_score}\")\n",
        "\n",
        "    return gbest_position, gbest_score\n",
        "\n",
        "# Parâmetros do PSO\n",
        "num_particles = 30\n",
        "num_dimensions = 2\n",
        "num_iterations = 100\n",
        "bounds = (-10, 10)\n",
        "\n",
        "# Execução do PSO\n",
        "best_position, best_score = pso(num_particles, num_dimensions, num_iterations, bounds)\n",
        "\n",
        "print(f\"Melhor posição: {best_position}\")\n",
        "print(f\"Melhor score: {best_score}\")\n"
      ]
    },
    {
      "cell_type": "code",
      "execution_count": null,
      "metadata": {
        "id": "C8oaLfZ6fKaG"
      },
      "outputs": [],
      "source": []
    }
  ],
  "metadata": {
    "colab": {
      "provenance": []
    },
    "kernelspec": {
      "display_name": "Python 3",
      "name": "python3"
    },
    "language_info": {
      "codemirror_mode": {
        "name": "ipython",
        "version": 3
      },
      "file_extension": ".py",
      "mimetype": "text/x-python",
      "name": "python",
      "nbconvert_exporter": "python",
      "pygments_lexer": "ipython3",
      "version": "3.11.1"
    }
  },
  "nbformat": 4,
  "nbformat_minor": 0
}
